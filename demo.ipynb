{
 "cells": [
  {
   "cell_type": "markdown",
   "id": "0a0a918b-cbe7-4f63-86ca-09a1356544ce",
   "metadata": {},
   "source": [
    "# Natural Language to SQL with ChatGPT\n"
   ]
  },
  {
   "cell_type": "markdown",
   "id": "bba78862-edc3-4bae-bc9f-d0858de5553f",
   "metadata": {},
   "source": [
    "## Motivation\n",
    "\n",
    "The ability of LLMs to \"understand\" human language has made them widely accessible to the general public. Tools such as ChatGPT are becoming indispensable for many businesses. While these models excel at generating and refining text, they lack accuracy and rely on broad web data rather than specific business datasets. Custom GPTs can be trained on proprietary data, but this approach carries significant drawbacks, including privacy concerns and a tendency to hallucinate.\n",
    "\n",
    "Accurate quantitative results can be retrieved directly from a database, but doing so requires knowledge of SQL and a deep understanding of the data model - skills that programmers typically have, but business users often lack. In fact, many software applications are developed solely to enable business users to query underlying databases.\n",
    "\n",
    "A massive shortcut can be achieved by writing a program that uses OpenAI's API to convert a natural language inquiry into SQL and then executes the resulting query against the database. Since the results come from an actual database, they cannot be \"hallucinated.\" There are still some concerns. The data model - though not the data - has to be shared. Furthermore, failures to generate accurate SQL can lead to frustration. Fine-tuning is crucial, but for now, we'll keep it simple."
   ]
  },
  {
   "cell_type": "markdown",
   "id": "71b5607f-d457-43cd-8a9f-d39fbc1f3a27",
   "metadata": {},
   "source": [
    "## Prerequisites\n",
    "\n",
    "- Access to OpenAI API \n",
    "- Basic Python Programming\n",
    "- Basic SQL knowledge\n",
    "\n",
    "Note that you need to sing up and obtain a token for the openai API. To use the API you must add some funds to the account. \n",
    "Running this tutorial will cost a few cents at most.\n",
    "\n",
    "https://platform.openai.com/docs/overview"
   ]
  },
  {
   "cell_type": "markdown",
   "id": "001831d1-fa33-4264-b71e-5f502878717b",
   "metadata": {},
   "source": [
    "## Prepare to use Open AI\n",
    "\n",
    "You must protect your API key by keeping it form appearing in plan view.\n",
    "Create a .env file in the directory of this project and enter\n",
    "\n",
    "```\n",
    "OPENAI_API_KEY=<your key>\n",
    "```\n",
    "\n",
    "Use the following command to load the environment variables in the notebook."
   ]
  },
  {
   "cell_type": "code",
   "execution_count": 24,
   "id": "0638b5b2-0093-458e-bb7b-d370fbdf0803",
   "metadata": {},
   "outputs": [
    {
     "data": {
      "text/plain": [
       "True"
      ]
     },
     "execution_count": 24,
     "metadata": {},
     "output_type": "execute_result"
    }
   ],
   "source": [
    "from dotenv import load_dotenv\n",
    "load_dotenv()"
   ]
  },
  {
   "cell_type": "code",
   "execution_count": 25,
   "id": "825c4358-d022-4f20-baf5-0a188c11a532",
   "metadata": {},
   "outputs": [
    {
     "data": {
      "text/plain": [
       "ChatCompletion(id='chatcmpl-Aw9GlQHWSqhb2m75592NwEIbanjqX', choices=[Choice(finish_reason='stop', index=0, logprobs=None, message=ChatCompletionMessage(content='The clock ticks slowly  \\nMoments slip through our fingers  \\nEternal is now', refusal=None, role='assistant', audio=None, function_call=None, tool_calls=None))], created=1738422019, model='gpt-3.5-turbo-0125', object='chat.completion', service_tier='default', system_fingerprint=None, usage=CompletionUsage(completion_tokens=17, prompt_tokens=25, total_tokens=42, completion_tokens_details=CompletionTokensDetails(accepted_prediction_tokens=0, audio_tokens=0, reasoning_tokens=0, rejected_prediction_tokens=0), prompt_tokens_details=PromptTokensDetails(audio_tokens=0, cached_tokens=0)))"
      ]
     },
     "execution_count": 25,
     "metadata": {},
     "output_type": "execute_result"
    }
   ],
   "source": [
    "from openai import OpenAI\n",
    "openai_client = OpenAI()\n",
    "\n",
    "response = openai_client.chat.completions.create(\n",
    "        model =\"gpt-3.5-turbo\",\n",
    "        messages=[\n",
    "            {\"role\": \"system\", \"content\": \"You answer every request with a Haiku.\"},\n",
    "            {\"role\": \"user\", \"content\": \"What time is it?\" }\n",
    "        ],\n",
    "    )\n",
    "response"
   ]
  },
  {
   "cell_type": "code",
   "execution_count": 26,
   "id": "8c1c1a88-4354-4fdc-b484-1eca82b3f358",
   "metadata": {},
   "outputs": [
    {
     "name": "stdout",
     "output_type": "stream",
     "text": [
      "The clock ticks slowly  \n",
      "Moments slip through our fingers  \n",
      "Eternal is now\n"
     ]
    }
   ],
   "source": [
    "print(response.choices[0].message.content)"
   ]
  },
  {
   "cell_type": "markdown",
   "id": "19753710-f7dd-4920-9af7-51defd425d6e",
   "metadata": {},
   "source": [
    "## Describe the database schema as a prompt to Chat GPT\n",
    "\n",
    "I have provided a five table database that I adapted from this article: https://www.sqlitetutorial.net/sqlite-sample-database/\n",
    "\n",
    "Here is function to convert the schema to a string:"
   ]
  },
  {
   "cell_type": "code",
   "execution_count": 27,
   "id": "74c35e83-83ac-4310-a6e2-11abf3357e82",
   "metadata": {},
   "outputs": [],
   "source": [
    "from sqlalchemy import create_engine, MetaData, text\n",
    "\n",
    "def build_schema(engine):\n",
    "    \"\"\"\n",
    "    Read the schema from a database and convert it to a string\n",
    "    :param engine: the sqlalchemy engine\n",
    "    :return: the schema as a string\n",
    "    \"\"\"\n",
    "    metadata = MetaData()\n",
    "    metadata.reflect(bind=engine)\n",
    "    tables = [f\"{table.name}: {[col.name for col in table.columns]}\" for table in metadata.tables.values()]\n",
    "    return \"\\n\".join(tables)\n",
    "\n",
    "engine = create_engine(\"sqlite:///media_store.db\")\n"
   ]
  },
  {
   "cell_type": "code",
   "execution_count": 28,
   "id": "e8ab9457-c332-4b28-a0e5-ca914d4ca3ae",
   "metadata": {},
   "outputs": [
    {
     "data": {
      "text/plain": [
       "[\"album: ['album_id', 'title', 'artist']\",\n",
       " \"customer: ['customer_id', 'first_name', 'last_name', 'address', 'city', 'country', 'state', 'postal_code', 'email', 'phone']\",\n",
       " \"invoice: ['invoice_id', 'customer_id', 'billing_address', 'billing_city', 'billing_country', 'billing_postal_code', 'billing_state']\",\n",
       " \"invoice_item: ['invoice_line_id', 'invoice_id', 'track_id', 'quantity']\",\n",
       " \"track: ['track_id', 'name', 'album_id', 'composer', 'milliseconds', 'bytes', 'unit_price']\"]"
      ]
     },
     "execution_count": 28,
     "metadata": {},
     "output_type": "execute_result"
    }
   ],
   "source": [
    "\n",
    "# Here is the schema\n",
    "schema = build_schema(engine)\n",
    "schema.split(\"\\n\")"
   ]
  },
  {
   "cell_type": "markdown",
   "id": "e7fbe466-4efa-4d6f-b0f4-c1470c86c047",
   "metadata": {},
   "source": [
    "Let's define a helper method to execute a sql query and get the results as a Pandas data frame"
   ]
  },
  {
   "cell_type": "code",
   "execution_count": 29,
   "id": "f6a029fa-38ab-4f5f-9d2b-33cd67f5d5f2",
   "metadata": {},
   "outputs": [],
   "source": [
    "import pandas as pd\n",
    "\n",
    "def execute_sql_query(engine, query):\n",
    "    \"\"\"\n",
    "    Execute a SQL query and return the results as a DataFrame\n",
    "    :param engine: the sqlalchemy engine\n",
    "    :param query: the SQL query\n",
    "    :return: the results as a DataFrame\n",
    "    \"\"\"\n",
    "    with engine.connect() as connection:\n",
    "        results = connection.execute(text(query))\n",
    "        return pd.DataFrame([row._mapping for row in results])\n"
   ]
  },
  {
   "cell_type": "code",
   "execution_count": 30,
   "id": "384d9ced-cd95-430d-ab2a-6f210731c04c",
   "metadata": {},
   "outputs": [
    {
     "data": {
      "text/html": [
       "<div>\n",
       "<style scoped>\n",
       "    .dataframe tbody tr th:only-of-type {\n",
       "        vertical-align: middle;\n",
       "    }\n",
       "\n",
       "    .dataframe tbody tr th {\n",
       "        vertical-align: top;\n",
       "    }\n",
       "\n",
       "    .dataframe thead th {\n",
       "        text-align: right;\n",
       "    }\n",
       "</style>\n",
       "<table border=\"1\" class=\"dataframe\">\n",
       "  <thead>\n",
       "    <tr style=\"text-align: right;\">\n",
       "      <th></th>\n",
       "      <th>amount</th>\n",
       "      <th>state</th>\n",
       "    </tr>\n",
       "  </thead>\n",
       "  <tbody>\n",
       "    <tr>\n",
       "      <th>0</th>\n",
       "      <td>37.62</td>\n",
       "      <td>AZ</td>\n",
       "    </tr>\n",
       "    <tr>\n",
       "      <th>1</th>\n",
       "      <td>115.86</td>\n",
       "      <td>CA</td>\n",
       "    </tr>\n",
       "    <tr>\n",
       "      <th>2</th>\n",
       "      <td>39.62</td>\n",
       "      <td>FL</td>\n",
       "    </tr>\n",
       "    <tr>\n",
       "      <th>3</th>\n",
       "      <td>43.62</td>\n",
       "      <td>IL</td>\n",
       "    </tr>\n",
       "    <tr>\n",
       "      <th>4</th>\n",
       "      <td>37.62</td>\n",
       "      <td>MA</td>\n",
       "    </tr>\n",
       "    <tr>\n",
       "      <th>5</th>\n",
       "      <td>37.62</td>\n",
       "      <td>NV</td>\n",
       "    </tr>\n",
       "    <tr>\n",
       "      <th>6</th>\n",
       "      <td>37.62</td>\n",
       "      <td>NY</td>\n",
       "    </tr>\n",
       "    <tr>\n",
       "      <th>7</th>\n",
       "      <td>47.62</td>\n",
       "      <td>TX</td>\n",
       "    </tr>\n",
       "    <tr>\n",
       "      <th>8</th>\n",
       "      <td>43.62</td>\n",
       "      <td>UT</td>\n",
       "    </tr>\n",
       "    <tr>\n",
       "      <th>9</th>\n",
       "      <td>39.62</td>\n",
       "      <td>WA</td>\n",
       "    </tr>\n",
       "    <tr>\n",
       "      <th>10</th>\n",
       "      <td>42.62</td>\n",
       "      <td>WI</td>\n",
       "    </tr>\n",
       "  </tbody>\n",
       "</table>\n",
       "</div>"
      ],
      "text/plain": [
       "    amount state\n",
       "0    37.62    AZ\n",
       "1   115.86    CA\n",
       "2    39.62    FL\n",
       "3    43.62    IL\n",
       "4    37.62    MA\n",
       "5    37.62    NV\n",
       "6    37.62    NY\n",
       "7    47.62    TX\n",
       "8    43.62    UT\n",
       "9    39.62    WA\n",
       "10   42.62    WI"
      ]
     },
     "execution_count": 30,
     "metadata": {},
     "output_type": "execute_result"
    }
   ],
   "source": [
    "result = execute_sql_query(engine, \"\"\"select i.billing_state as state, sum(t.unit_price*ii.quantity) as amount\n",
    "from invoice_item ii \n",
    "inner join invoice i on i.invoice_id = ii.invoice_id \n",
    "inner join track t on t.track_id = ii.track_id \n",
    "where i.billing_country  = 'USA'\n",
    "GROUP by state\"\"\")\n",
    "result"
   ]
  },
  {
   "cell_type": "code",
   "execution_count": 31,
   "id": "a1e4a1b2-c0d4-41e0-ac04-db9469e183dd",
   "metadata": {},
   "outputs": [
    {
     "data": {
      "text/plain": [
       "\"Given the following SQL tables, your job is to write SQLite queries to answer the user’s questions.\\n    Respond only with SQL and no additional content.\\nalbum: ['album_id', 'title', 'artist']\\ncustomer: ['customer_id', 'first_name', 'last_name', 'address', 'city', 'country', 'state', 'postal_code', 'email', 'phone']\\ninvoice: ['invoice_id', 'customer_id', 'billing_address', 'billing_city', 'billing_country', 'billing_postal_code', 'billing_state']\\ninvoice_item: ['invoice_line_id', 'invoice_id', 'track_id', 'quantity']\\ntrack: ['track_id', 'name', 'album_id', 'composer', 'milliseconds', 'bytes', 'unit_price']\""
      ]
     },
     "execution_count": 31,
     "metadata": {},
     "output_type": "execute_result"
    }
   ],
   "source": [
    "def build_system_prompt(schema_description):\n",
    "    \"\"\"\n",
    "    Given a schema description, build the system prompt for the chatgpt API\n",
    "    :param schema_description: the database schema as a string\n",
    "    :return: the system prompt\n",
    "    \"\"\"\n",
    "    instructions_prompt = \"\"\"\n",
    "    Given the following SQL tables, your job is to write SQLite queries to answer the user’s questions.\n",
    "    Respond only with SQL and no additional content.\n",
    "    \"\"\".strip()\n",
    "    return f'{instructions_prompt}\\n{schema_description}'\n",
    "\n",
    "system_prompt = build_system_prompt(schema)\n",
    "system_prompt"
   ]
  },
  {
   "cell_type": "code",
   "execution_count": 32,
   "id": "b7fc5a79-f131-4b08-867f-1d4114f5cb7a",
   "metadata": {},
   "outputs": [],
   "source": [
    "def build_user_prompt(user_question):\n",
    "    \"\"\"\n",
    "    Given a user question, build the user prompt for the chatgpt API\n",
    "    :param user_question: the user question\n",
    "    :return: the user prompt\n",
    "    \"\"\"\n",
    "    return f\"{user_question}\\nSELECT\"\n"
   ]
  },
  {
   "cell_type": "code",
   "execution_count": 33,
   "id": "d8b92964-482e-4425-9045-78f7c5349590",
   "metadata": {},
   "outputs": [],
   "source": [
    "def call_chatgpt(openai_client, system_prompt, user_prompt):\n",
    "    \"\"\"\n",
    "    Call the chatgpt API to generate a SQL query\n",
    "    :param openai_client: The openai clients\n",
    "    :param system_prompt: The system prompt\n",
    "    :param user_prompt: The user prompt\n",
    "    :return: The response from the chatgpt API\n",
    "    \"\"\"\n",
    "    response = openai_client.chat.completions.create(\n",
    "        model=\"gpt-3.5-turbo\",\n",
    "        messages=[\n",
    "            {\"role\": \"system\", \"content\": system_prompt},\n",
    "            {\"role\": \"user\", \"content\": user_prompt}\n",
    "        ],\n",
    "        temperature=0,\n",
    "        max_tokens=156\n",
    "    )\n",
    "    return response"
   ]
  },
  {
   "cell_type": "code",
   "execution_count": 34,
   "id": "82e7c670-b613-4de6-a61f-e468cc89c892",
   "metadata": {},
   "outputs": [],
   "source": [
    "def extract_sql(response):\n",
    "    \"\"\"\n",
    "    extract and format the SQL portion of the response\n",
    "    :param response: the raw response from the chatgpt API\n",
    "    :return: the SQL query\n",
    "    \"\"\"\n",
    "    raw_query = response.choices[0].message.content.strip()\n",
    "    if not raw_query.upper().startswith(\"SELECT\"):\n",
    "        raw_query = f'SELECT {raw_query}'\n",
    "    return raw_query\n"
   ]
  },
  {
   "cell_type": "code",
   "execution_count": 35,
   "id": "bd4bfc55-b907-49ab-93ac-98db186ec37b",
   "metadata": {},
   "outputs": [],
   "source": [
    "def answer_user_query(engine, openai_client, user_query):\n",
    "    \"\"\"\n",
    "    Answer a user query by generating SQL with chatgpt, executing the SQL,\n",
    "    and returning the results as a DataFrame\n",
    "    :param engine: the sqlalchemy engine\n",
    "    :param openai_client: the openai client\n",
    "    :param user_query: the user query\n",
    "    :return: A pair containing the sql generated and the results as a DataFrame\n",
    "    \"\"\"\n",
    "    schema = build_schema(engine)\n",
    "    system_prompt = build_system_prompt(schema)\n",
    "    user_prompt = build_user_prompt(user_query)\n",
    "    chat_response = call_chatgpt(openai_client, system_prompt, user_prompt)\n",
    "    print(chat_response)\n",
    "    sql = extract_sql(chat_response)\n",
    "    try :\n",
    "        df = execute_sql_query(engine, sql)\n",
    "    except Exception as e:\n",
    "        print(f\"Error executing SQL: {e}\")\n",
    "        return sql, \"The assistant could not answer your question. Please try reformulating it.\"\n",
    "    return sql, df\n"
   ]
  },
  {
   "cell_type": "code",
   "execution_count": 36,
   "id": "efb0236c-f44d-48ef-a081-2d04d2899bd8",
   "metadata": {},
   "outputs": [
    {
     "name": "stdout",
     "output_type": "stream",
     "text": [
      "ChatCompletion(id='chatcmpl-Aw9HNSi26EFyjGvhPFwQ9UcctUbqq', choices=[Choice(finish_reason='stop', index=0, logprobs=None, message=ChatCompletionMessage(content='billing_country AS territory, SUM(unit_price * quantity) AS total_sales\\nFROM invoice\\nJOIN invoice_item ON invoice.invoice_id = invoice_item.invoice_id\\nJOIN track ON invoice_item.track_id = track.track_id\\nGROUP BY billing_country;', refusal=None, role='assistant', audio=None, function_call=None, tool_calls=None))], created=1738422057, model='gpt-3.5-turbo-0125', object='chat.completion', service_tier='default', system_fingerprint=None, usage=CompletionUsage(completion_tokens=49, prompt_tokens=175, total_tokens=224, completion_tokens_details=CompletionTokensDetails(accepted_prediction_tokens=0, audio_tokens=0, reasoning_tokens=0, rejected_prediction_tokens=0), prompt_tokens_details=PromptTokensDetails(audio_tokens=0, cached_tokens=0)))\n"
     ]
    }
   ],
   "source": [
    "# Testing it out\n",
    "\n",
    "openai_client = OpenAI()\n",
    "\n",
    "user_question = \"give me the total sales by territory\"\n",
    "sql, result = answer_user_query(engine, openai_client, user_question)\n"
   ]
  },
  {
   "cell_type": "code",
   "execution_count": 37,
   "id": "0b7bc3a1-a656-4355-a04b-1b7c0e2e1060",
   "metadata": {},
   "outputs": [
    {
     "data": {
      "text/html": [
       "<div>\n",
       "<style scoped>\n",
       "    .dataframe tbody tr th:only-of-type {\n",
       "        vertical-align: middle;\n",
       "    }\n",
       "\n",
       "    .dataframe tbody tr th {\n",
       "        vertical-align: top;\n",
       "    }\n",
       "\n",
       "    .dataframe thead th {\n",
       "        text-align: right;\n",
       "    }\n",
       "</style>\n",
       "<table border=\"1\" class=\"dataframe\">\n",
       "  <thead>\n",
       "    <tr style=\"text-align: right;\">\n",
       "      <th></th>\n",
       "      <th>territory</th>\n",
       "      <th>total_sales</th>\n",
       "    </tr>\n",
       "  </thead>\n",
       "  <tbody>\n",
       "    <tr>\n",
       "      <th>0</th>\n",
       "      <td>Argentina</td>\n",
       "      <td>37.62</td>\n",
       "    </tr>\n",
       "    <tr>\n",
       "      <th>1</th>\n",
       "      <td>Australia</td>\n",
       "      <td>37.62</td>\n",
       "    </tr>\n",
       "    <tr>\n",
       "      <th>2</th>\n",
       "      <td>Austria</td>\n",
       "      <td>42.62</td>\n",
       "    </tr>\n",
       "    <tr>\n",
       "      <th>3</th>\n",
       "      <td>Belgium</td>\n",
       "      <td>37.62</td>\n",
       "    </tr>\n",
       "    <tr>\n",
       "      <th>4</th>\n",
       "      <td>Brazil</td>\n",
       "      <td>190.10</td>\n",
       "    </tr>\n",
       "    <tr>\n",
       "      <th>5</th>\n",
       "      <td>Canada</td>\n",
       "      <td>303.96</td>\n",
       "    </tr>\n",
       "    <tr>\n",
       "      <th>6</th>\n",
       "      <td>Chile</td>\n",
       "      <td>46.62</td>\n",
       "    </tr>\n",
       "    <tr>\n",
       "      <th>7</th>\n",
       "      <td>Czech Republic</td>\n",
       "      <td>90.24</td>\n",
       "    </tr>\n",
       "    <tr>\n",
       "      <th>8</th>\n",
       "      <td>Denmark</td>\n",
       "      <td>37.62</td>\n",
       "    </tr>\n",
       "    <tr>\n",
       "      <th>9</th>\n",
       "      <td>Finland</td>\n",
       "      <td>41.62</td>\n",
       "    </tr>\n",
       "    <tr>\n",
       "      <th>10</th>\n",
       "      <td>France</td>\n",
       "      <td>195.10</td>\n",
       "    </tr>\n",
       "    <tr>\n",
       "      <th>11</th>\n",
       "      <td>Germany</td>\n",
       "      <td>156.48</td>\n",
       "    </tr>\n",
       "    <tr>\n",
       "      <th>12</th>\n",
       "      <td>Hungary</td>\n",
       "      <td>45.62</td>\n",
       "    </tr>\n",
       "    <tr>\n",
       "      <th>13</th>\n",
       "      <td>India</td>\n",
       "      <td>75.26</td>\n",
       "    </tr>\n",
       "    <tr>\n",
       "      <th>14</th>\n",
       "      <td>Ireland</td>\n",
       "      <td>45.62</td>\n",
       "    </tr>\n",
       "    <tr>\n",
       "      <th>15</th>\n",
       "      <td>Italy</td>\n",
       "      <td>37.62</td>\n",
       "    </tr>\n",
       "    <tr>\n",
       "      <th>16</th>\n",
       "      <td>Netherlands</td>\n",
       "      <td>40.62</td>\n",
       "    </tr>\n",
       "    <tr>\n",
       "      <th>17</th>\n",
       "      <td>Norway</td>\n",
       "      <td>39.62</td>\n",
       "    </tr>\n",
       "    <tr>\n",
       "      <th>18</th>\n",
       "      <td>Poland</td>\n",
       "      <td>37.62</td>\n",
       "    </tr>\n",
       "    <tr>\n",
       "      <th>19</th>\n",
       "      <td>Portugal</td>\n",
       "      <td>77.24</td>\n",
       "    </tr>\n",
       "    <tr>\n",
       "      <th>20</th>\n",
       "      <td>Spain</td>\n",
       "      <td>37.62</td>\n",
       "    </tr>\n",
       "    <tr>\n",
       "      <th>21</th>\n",
       "      <td>Sweden</td>\n",
       "      <td>38.62</td>\n",
       "    </tr>\n",
       "    <tr>\n",
       "      <th>22</th>\n",
       "      <td>USA</td>\n",
       "      <td>523.06</td>\n",
       "    </tr>\n",
       "    <tr>\n",
       "      <th>23</th>\n",
       "      <td>United Kingdom</td>\n",
       "      <td>112.86</td>\n",
       "    </tr>\n",
       "  </tbody>\n",
       "</table>\n",
       "</div>"
      ],
      "text/plain": [
       "         territory  total_sales\n",
       "0        Argentina        37.62\n",
       "1        Australia        37.62\n",
       "2          Austria        42.62\n",
       "3          Belgium        37.62\n",
       "4           Brazil       190.10\n",
       "5           Canada       303.96\n",
       "6            Chile        46.62\n",
       "7   Czech Republic        90.24\n",
       "8          Denmark        37.62\n",
       "9          Finland        41.62\n",
       "10          France       195.10\n",
       "11         Germany       156.48\n",
       "12         Hungary        45.62\n",
       "13           India        75.26\n",
       "14         Ireland        45.62\n",
       "15           Italy        37.62\n",
       "16     Netherlands        40.62\n",
       "17          Norway        39.62\n",
       "18          Poland        37.62\n",
       "19        Portugal        77.24\n",
       "20           Spain        37.62\n",
       "21          Sweden        38.62\n",
       "22             USA       523.06\n",
       "23  United Kingdom       112.86"
      ]
     },
     "execution_count": 37,
     "metadata": {},
     "output_type": "execute_result"
    }
   ],
   "source": [
    "result"
   ]
  },
  {
   "cell_type": "code",
   "execution_count": 38,
   "id": "89c4e15a-1707-47d1-af82-b25edcbb8ed7",
   "metadata": {},
   "outputs": [
    {
     "data": {
      "text/plain": [
       "['SELECT billing_country AS territory, SUM(unit_price * quantity) AS total_sales',\n",
       " 'FROM invoice',\n",
       " 'JOIN invoice_item ON invoice.invoice_id = invoice_item.invoice_id',\n",
       " 'JOIN track ON invoice_item.track_id = track.track_id',\n",
       " 'GROUP BY billing_country;']"
      ]
     },
     "execution_count": 38,
     "metadata": {},
     "output_type": "execute_result"
    }
   ],
   "source": [
    "sql.split('\\n')"
   ]
  },
  {
   "cell_type": "code",
   "execution_count": 39,
   "id": "837ac566-daeb-4423-b408-81351d1b9325",
   "metadata": {},
   "outputs": [
    {
     "name": "stdout",
     "output_type": "stream",
     "text": [
      "ChatCompletion(id='chatcmpl-Aw9HgH2nhfNcmXWF8ysPVAKAPPr6d', choices=[Choice(finish_reason='stop', index=0, logprobs=None, message=ChatCompletionMessage(content=\"artist, SUM(unit_price * quantity) AS total_sales\\nFROM album\\nJOIN track ON album.album_id = track.album_id\\nJOIN invoice_item ON track.track_id = invoice_item.track_id\\nJOIN invoice ON invoice_item.invoice_id = invoice.invoice_id\\nJOIN customer ON invoice.customer_id = customer.customer_id\\nWHERE customer.state = 'CA'\\nGROUP BY artist\\nORDER BY total_sales DESC\\nLIMIT 10;\", refusal=None, role='assistant', audio=None, function_call=None, tool_calls=None))], created=1738422076, model='gpt-3.5-turbo-0125', object='chat.completion', service_tier='default', system_fingerprint=None, usage=CompletionUsage(completion_tokens=84, prompt_tokens=185, total_tokens=269, completion_tokens_details=CompletionTokensDetails(accepted_prediction_tokens=0, audio_tokens=0, reasoning_tokens=0, rejected_prediction_tokens=0), prompt_tokens_details=PromptTokensDetails(audio_tokens=0, cached_tokens=0)))\n"
     ]
    }
   ],
   "source": [
    "# A more complex query\n",
    "\n",
    "user_query = \"Find the top ten album artists that made the most sales on tracks to customers in CA\"\n",
    "sql, df = answer_user_query(engine, openai_client, user_query)\n"
   ]
  },
  {
   "cell_type": "code",
   "execution_count": 40,
   "id": "4693837e-d005-49f1-9e12-c064aa6bc6ab",
   "metadata": {},
   "outputs": [
    {
     "data": {
      "text/plain": [
       "['SELECT artist, SUM(unit_price * quantity) AS total_sales',\n",
       " 'FROM album',\n",
       " 'JOIN track ON album.album_id = track.album_id',\n",
       " 'JOIN invoice_item ON track.track_id = invoice_item.track_id',\n",
       " 'JOIN invoice ON invoice_item.invoice_id = invoice.invoice_id',\n",
       " 'JOIN customer ON invoice.customer_id = customer.customer_id',\n",
       " \"WHERE customer.state = 'CA'\",\n",
       " 'GROUP BY artist',\n",
       " 'ORDER BY total_sales DESC',\n",
       " 'LIMIT 10;']"
      ]
     },
     "execution_count": 40,
     "metadata": {},
     "output_type": "execute_result"
    }
   ],
   "source": [
    "sql.split('\\n')"
   ]
  },
  {
   "cell_type": "code",
   "execution_count": 41,
   "id": "d684d771-0d4b-4ac1-a7aa-68f4b841175e",
   "metadata": {},
   "outputs": [
    {
     "data": {
      "text/html": [
       "<div>\n",
       "<style scoped>\n",
       "    .dataframe tbody tr th:only-of-type {\n",
       "        vertical-align: middle;\n",
       "    }\n",
       "\n",
       "    .dataframe tbody tr th {\n",
       "        vertical-align: top;\n",
       "    }\n",
       "\n",
       "    .dataframe thead th {\n",
       "        text-align: right;\n",
       "    }\n",
       "</style>\n",
       "<table border=\"1\" class=\"dataframe\">\n",
       "  <thead>\n",
       "    <tr style=\"text-align: right;\">\n",
       "      <th></th>\n",
       "      <th>artist</th>\n",
       "      <th>total_sales</th>\n",
       "    </tr>\n",
       "  </thead>\n",
       "  <tbody>\n",
       "    <tr>\n",
       "      <th>0</th>\n",
       "      <td>Iron Maiden</td>\n",
       "      <td>19.80</td>\n",
       "    </tr>\n",
       "    <tr>\n",
       "      <th>1</th>\n",
       "      <td>Eric Clapton</td>\n",
       "      <td>8.91</td>\n",
       "    </tr>\n",
       "    <tr>\n",
       "      <th>2</th>\n",
       "      <td>The Office</td>\n",
       "      <td>5.97</td>\n",
       "    </tr>\n",
       "    <tr>\n",
       "      <th>3</th>\n",
       "      <td>Van Halen</td>\n",
       "      <td>5.94</td>\n",
       "    </tr>\n",
       "    <tr>\n",
       "      <th>4</th>\n",
       "      <td>Metallica</td>\n",
       "      <td>5.94</td>\n",
       "    </tr>\n",
       "    <tr>\n",
       "      <th>5</th>\n",
       "      <td>Deep Purple</td>\n",
       "      <td>5.94</td>\n",
       "    </tr>\n",
       "    <tr>\n",
       "      <th>6</th>\n",
       "      <td>Antônio Carlos Jobim</td>\n",
       "      <td>5.94</td>\n",
       "    </tr>\n",
       "    <tr>\n",
       "      <th>7</th>\n",
       "      <td>Toquinho &amp; Vinícius</td>\n",
       "      <td>4.95</td>\n",
       "    </tr>\n",
       "    <tr>\n",
       "      <th>8</th>\n",
       "      <td>The Cult</td>\n",
       "      <td>4.95</td>\n",
       "    </tr>\n",
       "    <tr>\n",
       "      <th>9</th>\n",
       "      <td>Red Hot Chili Peppers</td>\n",
       "      <td>4.95</td>\n",
       "    </tr>\n",
       "  </tbody>\n",
       "</table>\n",
       "</div>"
      ],
      "text/plain": [
       "                  artist  total_sales\n",
       "0            Iron Maiden        19.80\n",
       "1           Eric Clapton         8.91\n",
       "2             The Office         5.97\n",
       "3              Van Halen         5.94\n",
       "4              Metallica         5.94\n",
       "5            Deep Purple         5.94\n",
       "6   Antônio Carlos Jobim         5.94\n",
       "7    Toquinho & Vinícius         4.95\n",
       "8               The Cult         4.95\n",
       "9  Red Hot Chili Peppers         4.95"
      ]
     },
     "execution_count": 41,
     "metadata": {},
     "output_type": "execute_result"
    }
   ],
   "source": [
    "df"
   ]
  },
  {
   "cell_type": "markdown",
   "id": "5fa61430-7600-440d-8d09-9a1a2de13c95",
   "metadata": {},
   "source": [
    "## The Future\n",
    "\n",
    "The paradigm for building data-driven software applications is shifting dramatically. Instead of training users to obtain information by using buttons, dropdowns, sliders, links, and all that jazz, they can instead simply state what they want. Whereas in this particular example, ChatGPT just generates SQL, it can write code in any language, perform calculations, draw diagrams, summarize data, and perform countless other operations."
   ]
  },
  {
   "cell_type": "code",
   "execution_count": null,
   "id": "11e47a5f-0a7e-4206-baba-0e4db491f834",
   "metadata": {},
   "outputs": [],
   "source": []
  }
 ],
 "metadata": {
  "kernelspec": {
   "display_name": "chatgpt-sql-generator",
   "language": "python",
   "name": "chatgpt-sql-generator"
  },
  "language_info": {
   "codemirror_mode": {
    "name": "ipython",
    "version": 3
   },
   "file_extension": ".py",
   "mimetype": "text/x-python",
   "name": "python",
   "nbconvert_exporter": "python",
   "pygments_lexer": "ipython3",
   "version": "3.12.8"
  }
 },
 "nbformat": 4,
 "nbformat_minor": 5
}
